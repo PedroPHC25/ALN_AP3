{
 "cells": [
  {
   "cell_type": "markdown",
   "metadata": {},
   "source": [
    "# Exercício 1"
   ]
  },
  {
   "cell_type": "markdown",
   "metadata": {},
   "source": [
    "Inicialmente, façamos a função da 1° versão do método da potência, ou seja, normalizando o vetor de modo que sua entrada de maior módulo seja igual a 1."
   ]
  },
  {
   "cell_type": "code",
   "execution_count": 128,
   "metadata": {},
   "outputs": [],
   "source": [
    "// Função da versão 1 do método da potência\n",
    "function [lambda, x1, k, n_erro] = Metodo_potencia_v1(A, x0, epsilon, M)\n",
    "    // Número de iterações\n",
    "    k = 0\n",
    "    // Inicializando o erro\n",
    "    n_erro = epsilon + 1\n",
    "    // Inicializando x1\n",
    "    [max_value, imax] = max(abs(x0))\n",
    "    x1 = x0/x0(imax)\n",
    "\n",
    "    // Enquanto o número de iterações for suportado e o erro for grande...\n",
    "    while k < M && n_erro >= epsilon\n",
    "        // Atualiza os vetores\n",
    "        x0 = x1\n",
    "        x1 = A*x1\n",
    "        // Salva o valor de lambda\n",
    "        abs_max = max(abs(x0))\n",
    "        [max_value, imax] = max(abs(x0))\n",
    "        lambda = x1(imax)\n",
    "        // Normaliza o vetor\n",
    "        x1 = x1/lambda\n",
    "        // Calcula o erro\n",
    "        n_erro = norm(x1 - x0, \"inf\")\n",
    "        // Aumenta uma iteração\n",
    "        k = k + 1\n",
    "    end\n",
    "endfunction"
   ]
  },
  {
   "cell_type": "markdown",
   "metadata": {},
   "source": [
    "Agora, vamos à versão 2, que utiliza do Quociente de Rayleigh."
   ]
  },
  {
   "cell_type": "code",
   "execution_count": 129,
   "metadata": {},
   "outputs": [],
   "source": [
    "// Função da versão 2 do método da potência\n",
    "function [lambda, x1, k, n_erro] = Metodo_potencia_v2(A, x0, epsilon, M)\n",
    "    // Número de iterações\n",
    "    k = 0\n",
    "    // Inicializando o erro\n",
    "    n_erro = epsilon + 1\n",
    "    // Inicializando x1\n",
    "    x_norm = norm(x0, 2)\n",
    "    x1 = x0/x_norm\n",
    "\n",
    "    // Enquanto o número de iterações for suportado e o erro for grande...\n",
    "    while k < M && n_erro >= epsilon\n",
    "        // Atualiza os vetores\n",
    "        x0 = x1\n",
    "        x1 = A*x1\n",
    "        // Salva o valor de lambda de acordo com o Quociente de Rayleigh\n",
    "        lambda = x1' * x0\n",
    "        // Se o autovalor for negativo, inverte o vetor\n",
    "        if lambda < 0\n",
    "            x1 = -x1\n",
    "        end\n",
    "        // Normaliza o vetor\n",
    "        x_norm = norm(x1, 2)\n",
    "        x1 = x1/x_norm\n",
    "        // Calcula o erro\n",
    "        n_erro = norm(x1 - x0, 2)\n",
    "        // Aumenta uma iteração\n",
    "        k = k + 1\n",
    "    end\n",
    "endfunction"
   ]
  },
  {
   "cell_type": "markdown",
   "metadata": {},
   "source": [
    "# Exercício 2"
   ]
  },
  {
   "cell_type": "markdown",
   "metadata": {
    "vscode": {
     "languageId": "python"
    }
   },
   "source": [
    "Antes de fazermos o código para esse método, precisamos de duas funções auxiliares: uma para calcular a decomposição LU de uma matriz e outra para resolver um sistema com essa decomposição. Ambas são adaptações da `Guassian_Elimination_4` da atividade prática 1. Essa separação foi realizada para otimizar o algoritmo, já que não é necessário calcular a decomposição LU de A a cada iteração, mas a solução do sistema sim."
   ]
  },
  {
   "cell_type": "code",
   "execution_count": 130,
   "metadata": {},
   "outputs": [],
   "source": [
    "// Função para calcular a decomposição LU\n",
    "function [C, P] = Decomposicao_LU(A)\n",
    "    C = A\n",
    "    n = size(C, 1)\n",
    "    // Inicializando a matriz P\n",
    "    P = eye(n, n)\n",
    "    for j = 1:(n - 1)\n",
    "        // Se o pivô não for o maior valor de sua coluna, troca as linhas\n",
    "        if max(abs(C(j:n,j))) ~= abs(C(j,j)) then\n",
    "            // Encontrando a linha com o maior pivô em módulo\n",
    "            moduled_vector = abs(C(j:n,j))\n",
    "            max_pivot_index = find(moduled_vector == max(moduled_vector))\n",
    "            // Trocando essas linhas na C e na P\n",
    "            C([j j + max_pivot_index - 1],:) = C([j + max_pivot_index - 1 j],:)\n",
    "            P([j j + max_pivot_index - 1],:) = P([j + max_pivot_index - 1 j],:)\n",
    "        end\n",
    "        // O pivô está na posição (j,j)\n",
    "        for i = (j + 1):n\n",
    "            // O elemento C(i, j) é o elemento na posição (i, j) da L na decomposição LU de A\n",
    "            C(i, j) = C(i, j)/C(j, j)\n",
    "            // Linha i <- Linha i - C(i,j) * Linha j\n",
    "            // Somente os elementos da diagonal ou acima dela são computados\n",
    "            // (aqueles que compõem a matriz U)\n",
    "            C(i, j+1:n)=C(i, j+1:n)-C(i, j)*C(j, j+1:n);\n",
    "        end\n",
    "    end\n",
    "endfunction\n",
    "\n",
    "// Função para resolver um sistema usando a decomposição LU\n",
    "function [x] = Resolve_com_LU(C, P, b)\n",
    "    n = size(C, 1);\n",
    "    // Inicializando x\n",
    "    x = zeros(n, 1);\n",
    "    // Ajustando o sistema de acordo com a matriz de permutação\n",
    "    b = P*b;\n",
    "    // Resolvendo Ly = b\n",
    "    y = zeros(n, 1);\n",
    "    y(1) = b(1);\n",
    "    for i = 2:n\n",
    "        y(i) = b(i) - C(i, 1:i-1) * y(1:i-1);\n",
    "    end\n",
    "    // Resolvendo Ux = y\n",
    "    x(n) = y(n) / C(n, n);\n",
    "    for i = n-1:-1:1\n",
    "        x(i) = (y(i) - C(i, i+1:n) * x(i+1:n)) / C(i, i);\n",
    "    end\n",
    "endfunction"
   ]
  },
  {
   "cell_type": "markdown",
   "metadata": {},
   "source": [
    "OBS.: Para a função `Resolve_com_LU`, foi necessário resolver os dois sistemas triangulares da equação $LUx = Pb$, em oposição à função original `Gaussian_Elimination_4`, que calculava apenas a segunda parte ($Ux = y$). Isso se deu devido ao fato de que, na função original, as alterações realizadas na matriz para obter a decomposição LU (permutações e operações entre linhas) afetavam ao mesmo tempo o vetor $b$, que estava \"acoplado\" à $C$ formando a matriz aumentada $[C, b]$. Assim, ela era capaz de resolver apenas a segunda parte do sistema, pois a resposta da primeira parte já estava ali. No entanto, com a separação das funções realizada acima, a função `Resolve_com_LU` não consegue ter um acesso prático a essas mudanças realizadas pela função `Decomposicao_LU`, de forma que torna-se necessário resolver manualmente também a primeira fase do sistema ($Ly = b$).\n",
    "\n",
    "Agora sim, vamos à função do método:"
   ]
  },
  {
   "cell_type": "code",
   "execution_count": 131,
   "metadata": {},
   "outputs": [],
   "source": [
    "// Função do método da potência deslocada com iteração inversa\n",
    "function [lambda1, x1, k, n_erro] = Potencia_deslocada_inversa(A, x0, epsilon, alfa, M)\n",
    "    // Inicializando o número de iterações\n",
    "    k = 0\n",
    "    // Normalizando x0\n",
    "    x_norm = norm(x0, 2)\n",
    "    x0 = x0/x_norm\n",
    "    // Inicializando o erro\n",
    "    n_erro = epsilon + 1\n",
    "\n",
    "    // Dimensão de A\n",
    "    n = size(A, 1)\n",
    "    // Calculando a decomposição LU de (A - alfa*I)\n",
    "    [C, P] = Decomposicao_LU(A - alfa * eye(n, n))\n",
    "\n",
    "    // Enquanto o número de iterações for suportado e o erro for grande...\n",
    "    while k < M && n_erro >= epsilon\n",
    "        // Calcula x1 resolvendo o sistema (A - alfa*I)*x1 = x0\n",
    "        x1 = Resolve_com_LU(C, P, x0)\n",
    "        // Normaliza x1\n",
    "        x_norm = norm(x1, 2)\n",
    "        x1 = x1/x_norm\n",
    "        // Calcula lambda de acordo com o Quociente de Rayleigh\n",
    "        lambda1 = x1'*A*x1\n",
    "        // Se os vetores estiverem em sentidos opostos, inverte o vetor\n",
    "        if x1'*x0 < 0\n",
    "            x1 = -x1\n",
    "        end\n",
    "        // Calcula o erro\n",
    "        n_erro = norm(x1 - x0, 2)\n",
    "        // Atualiza os vetores\n",
    "        x0 = x1\n",
    "        k = k + 1\n",
    "    end\n",
    "endfunction"
   ]
  },
  {
   "cell_type": "markdown",
   "metadata": {},
   "source": [
    "# Exercício 3\n",
    "\n",
    "Vamos testar ambas as funções do método da potência com algumas matrizes $A$:"
   ]
  },
  {
   "cell_type": "code",
   "execution_count": 132,
   "metadata": {},
   "outputs": [
    {
     "name": "stdout",
     "output_type": "stream",
     "text": [
      " A1  = \n",
      "   1.5  -0.5   0.\n",
      "  -0.5   1.5   0.\n",
      "   0.    0.    3."
     ]
    }
   ],
   "source": [
    "A1 = [3/2 -1/2 0; -1/2 3/2 0; 0 0 3]"
   ]
  },
  {
   "cell_type": "markdown",
   "metadata": {},
   "source": [
    "Os autovalores dessa matriz são 1, 2 e 3. Assim, nossas funções devem retornar 3 como autovalor."
   ]
  },
  {
   "cell_type": "code",
   "execution_count": 133,
   "metadata": {},
   "outputs": [
    {
     "name": "stdout",
     "output_type": "stream",
     "text": [
      "  \"===== Versão 1 =====\"\n",
      " lambda  = \n",
      "   3.\n",
      " x1  = \n",
      "  -0.0000149\n",
      "   0.0000149\n",
      "   1.\n",
      " k  = \n",
      "   23.\n",
      " n_erro  = \n",
      "   0.0000074\n",
      "\n",
      "  \"===== Versão 2 =====\"\n",
      " lambda  = \n",
      "   3.0000000\n",
      " x1  = \n",
      "  -0.0000099\n",
      "   0.0000099\n",
      "   1.0000000\n",
      " k  = \n",
      "   24.\n",
      " n_erro  = \n",
      "   0.0000070"
     ]
    }
   ],
   "source": [
    "disp(\"===== Versão 1 =====\")\n",
    "[lambda, x1, k, n_erro] = Metodo_potencia_v1(A1, [1; 2; 3], 10^(-5), 30)\n",
    "disp(\"===== Versão 2 =====\")\n",
    "[lambda, x1, k, n_erro] = Metodo_potencia_v2(A1, [1; 2; 3], 10^(-5), 30)"
   ]
  },
  {
   "cell_type": "markdown",
   "metadata": {},
   "source": [
    "Ambas retornaram corretamente, com a versão 1 levando uma iteração a menos que a 2.\n",
    "\n",
    "Vamos ao próximo exemplo."
   ]
  },
  {
   "cell_type": "code",
   "execution_count": 134,
   "metadata": {},
   "outputs": [
    {
     "name": "stdout",
     "output_type": "stream",
     "text": [
      " A2  = \n",
      "   0.5       -1.767767   1.767767   0.\n",
      "  -1.767767  -0.25      -0.75       0.\n",
      "   1.767767  -0.75      -0.25       0.\n",
      "   0.         0.         0.         5."
     ]
    }
   ],
   "source": [
    "A2 = [1/2 -5*sqrt(2)/4 5*sqrt(2)/4 0;\n",
    "      -5*sqrt(2)/4 -1/4 -3/4 0;\n",
    "      5*sqrt(2)/4 -3/4 -1/4 0;\n",
    "      0 0 0 5]"
   ]
  },
  {
   "cell_type": "markdown",
   "metadata": {},
   "source": [
    "Seus autovalores são -2, -1, 3 e 5, dando a entender que nossas funções retornarão o valor 5. Vamos conferir isso:"
   ]
  },
  {
   "cell_type": "code",
   "execution_count": 135,
   "metadata": {},
   "outputs": [
    {
     "name": "stdout",
     "output_type": "stream",
     "text": [
      "  \"===== Versão 1 =====\"\n",
      " lambda  = \n",
      "   5.\n",
      " x1  = \n",
      "   1.083D-10\n",
      "  -7.656D-11\n",
      "   7.656D-11\n",
      "   1.\n",
      " k  = \n",
      "   43.\n",
      " n_erro  = \n",
      "   7.218D-11\n",
      "\n",
      "  \"===== Versão 2 =====\"\n",
      " lambda  = \n",
      "   5.\n",
      " x1  = \n",
      "   6.497D-11\n",
      "  -4.594D-11\n",
      "   4.594D-11\n",
      "   1.\n",
      " k  = \n",
      "   44.\n",
      " n_erro  = \n",
      "   6.125D-11"
     ]
    }
   ],
   "source": [
    "disp(\"===== Versão 1 =====\")\n",
    "[lambda, x1, k, n_erro] = Metodo_potencia_v1(A2, [3; 0; 0; 4], 10^(-10), 50)\n",
    "disp(\"===== Versão 2 =====\")\n",
    "[lambda, x1, k, n_erro] = Metodo_potencia_v2(A2, [3; 0; 0; 4], 10^(-10), 50)"
   ]
  },
  {
   "cell_type": "markdown",
   "metadata": {},
   "source": [
    "Mais uma vez, a versão 1 obteve a aproximação solicitada com uma iteração a menos que a 2° versão.\n",
    "\n",
    "Façamos um próximo teste com a seguinte matriz:"
   ]
  },
  {
   "cell_type": "code",
   "execution_count": 136,
   "metadata": {},
   "outputs": [
    {
     "name": "stdout",
     "output_type": "stream",
     "text": [
      " A3  = \n",
      "   10.   2.   4.   10.   1.\n",
      "   3.    2.   5.   6.    4.\n",
      "   3.    7.   1.   10.   6.\n",
      "   6.    6.   5.   6.    4.\n",
      "   4.    3.   6.   6.    8."
     ]
    }
   ],
   "source": [
    "rand(\"seed\", 2)\n",
    "A3 = round(10*rand(5, 5))"
   ]
  },
  {
   "cell_type": "markdown",
   "metadata": {},
   "source": [
    "Abaixo estão seus autovalores:"
   ]
  },
  {
   "cell_type": "code",
   "execution_count": 137,
   "metadata": {},
   "outputs": [
    {
     "name": "stdout",
     "output_type": "stream",
     "text": [
      " ans  =\n",
      "   25.874461 + 0.i\n",
      "   7.0293042 + 0.i\n",
      "  -4.4923435 + 0.i\n",
      "  -3.4373729 + 0.i\n",
      "   2.0259514 + 0.i"
     ]
    }
   ],
   "source": [
    "spec(A3)"
   ]
  },
  {
   "cell_type": "markdown",
   "metadata": {},
   "source": [
    "Dessa forma, o resultado esperado é o primeiro desses valores. Vejamos:"
   ]
  },
  {
   "cell_type": "code",
   "execution_count": 138,
   "metadata": {},
   "outputs": [
    {
     "name": "stdout",
     "output_type": "stream",
     "text": [
      "  \"===== Versão 1 =====\"\n",
      " lambda  = \n",
      "   25.874460\n",
      " x1  = \n",
      "   1.\n",
      "   0.7322711\n",
      "   0.9517127\n",
      "   0.9614193\n",
      "   0.9888749\n",
      " k  = \n",
      "   13.\n",
      " n_erro  = \n",
      "   6.849D-08\n",
      "\n",
      "  \"===== Versão 2 =====\"\n",
      " lambda  = \n",
      "   25.874461\n",
      " x1  = \n",
      "   0.4797845\n",
      "   0.3513323\n",
      "   0.4566169\n",
      "   0.4612740\n",
      "   0.4744468\n",
      " k  = \n",
      "   12.\n",
      " n_erro  = \n",
      "   9.716D-08"
     ]
    }
   ],
   "source": [
    "disp(\"===== Versão 1 =====\")\n",
    "[lambda, x1, k, n_erro] = Metodo_potencia_v1(A3, [1; 5; 1; 2; 0], 10^(-7), 30)\n",
    "disp(\"===== Versão 2 =====\")\n",
    "[lambda, x1, k, n_erro] = Metodo_potencia_v2(A3, [1; 5; 1; 2; 0], 10^(-7), 30)"
   ]
  },
  {
   "cell_type": "markdown",
   "metadata": {},
   "source": [
    "Dessa vez, a segunda versão levou a melhor sobre a primeira, e também por 1 iteração.\n",
    "\n",
    "Agora, vamos testar com uma matriz cujo maior autovalor em módulo é negativo. Considere a seguinte matriz:"
   ]
  },
  {
   "cell_type": "code",
   "execution_count": 139,
   "metadata": {},
   "outputs": [
    {
     "name": "stdout",
     "output_type": "stream",
     "text": [
      " A4  = \n",
      "   1.5   0.5   0.\n",
      "   0.5   1.5   0.\n",
      "   0.    0.   -3."
     ]
    }
   ],
   "source": [
    "A4 = [3/2 1/2 0; 1/2 3/2 0; 0 0 -3]"
   ]
  },
  {
   "cell_type": "markdown",
   "metadata": {},
   "source": [
    "Seus autovalores são 1, 2 e **-3**. Vamos ver se nossas funções funcionarão corretamente:"
   ]
  },
  {
   "cell_type": "code",
   "execution_count": 140,
   "metadata": {},
   "outputs": [
    {
     "name": "stdout",
     "output_type": "stream",
     "text": [
      "  \"===== Versão 1 =====\"\n",
      " lambda  = \n",
      "  -3.\n",
      " x1  = \n",
      "   0.0001504\n",
      "   0.0001504\n",
      "   1.\n",
      " k  = \n",
      "   20.\n",
      " n_erro  = \n",
      "   0.0003759\n",
      "\n",
      "  \"===== Versão 2 =====\"\n",
      " lambda  = \n",
      "  -2.9999995\n",
      " x1  = \n",
      "   0.0001504\n",
      "   0.0001504\n",
      "   1.0000000\n",
      " k  = \n",
      "   20.\n",
      " n_erro  = \n",
      "   0.0005316"
     ]
    }
   ],
   "source": [
    "disp(\"===== Versão 1 =====\")\n",
    "[lambda, x1, k, n_erro] = Metodo_potencia_v1(A4, [1; 2; 3], 10^(-5), 20)\n",
    "disp(\"===== Versão 2 =====\")\n",
    "[lambda, x1, k, n_erro] = Metodo_potencia_v2(A4, [1; 2; 3], 10^(-5), 20)"
   ]
  },
  {
   "cell_type": "markdown",
   "metadata": {},
   "source": [
    "Perfeito! As funções retornaram -3, e no mesmo número de iterações!\n",
    "\n",
    "Para finalizar, vamos fazer um teste de desempenho com essas duas funções. Para isso, vamos gerar uma matriz grande (3000x3000) e simétrica (para garantir autovalores reais) e aplicá-la a ambas nossas funções do método da potência. Com isso, veremos o número de iterações necessário e o tempo de execução de cada uma."
   ]
  },
  {
   "cell_type": "code",
   "execution_count": 141,
   "metadata": {},
   "outputs": [
    {
     "name": "stdout",
     "output_type": "stream",
     "text": [
      " v1_time  = \n",
      "   25.532164\n",
      " v2_time  = \n",
      "   20.407951"
     ]
    }
   ],
   "source": [
    "// Gerando uma matriz aleatória simétrica 3000x3000\n",
    "rand(\"seed\", 0)\n",
    "n = 3000;\n",
    "A5 = 200 * rand(n, n) - 100;\n",
    "A5 = (A5 + A5')/2;\n",
    "\n",
    "// Calculando o tempo de execução de cada uma\n",
    "tic()\n",
    "[lambda, x1, k1, n_erro] = Metodo_potencia_v1(A5, rand(n, 1), 10^(-5), 10000);\n",
    "v1_time = toc()\n",
    "tic()\n",
    "[lambda, x1, k2, n_erro] = Metodo_potencia_v2(A5, rand(n, 1), 10^(-5), 10000);\n",
    "v2_time = toc()"
   ]
  },
  {
   "cell_type": "markdown",
   "metadata": {},
   "source": [
    "Podemos ver que as duas funções levaram quase o mesmo tempo, indicando que elas podem ser semelhantemente eficientes.\n",
    "\n",
    "Vamos ver quantas iterações cada uma levou."
   ]
  },
  {
   "cell_type": "code",
   "execution_count": 142,
   "metadata": {},
   "outputs": [
    {
     "name": "stdout",
     "output_type": "stream",
     "text": [
      " k1  = \n",
      "   4197.\n",
      " k2  = \n",
      "   4084."
     ]
    }
   ],
   "source": [
    "k1, k2"
   ]
  },
  {
   "cell_type": "markdown",
   "metadata": {},
   "source": [
    "Nesse caso, a versão 1 levou um pouco mais de iterações, mas nada muito expressivo. Portanto, é possível inferir que essas duas funções podem ser tomadas como equivalentes."
   ]
  },
  {
   "cell_type": "markdown",
   "metadata": {},
   "source": [
    "# Exercício 4"
   ]
  },
  {
   "cell_type": "markdown",
   "metadata": {},
   "source": [
    "Primeiramente, vamos testar isso com uma matriz aleatória:"
   ]
  },
  {
   "cell_type": "code",
   "execution_count": 143,
   "metadata": {},
   "outputs": [
    {
     "name": "stdout",
     "output_type": "stream",
     "text": [
      " A6  = \n",
      "  -6.    4.   -4.5  -4.   -0.5\n",
      "   4.    7.    3.5   1.5   0. \n",
      "  -4.5   3.5   5.   -6.   -2.5\n",
      "  -4.    1.5  -6.    8.   -0.5\n",
      "  -0.5   0.   -2.5  -0.5  -3. "
     ]
    }
   ],
   "source": [
    "// Criando uma matriz simétrica aleatória\n",
    "rand(\"seed\", 0)\n",
    "A6 = round(20 * rand(5, 5) - 10);\n",
    "A6 = (A6 + A6')/2"
   ]
  },
  {
   "cell_type": "markdown",
   "metadata": {},
   "source": [
    "Estes são seus autovalores:"
   ]
  },
  {
   "cell_type": "code",
   "execution_count": 144,
   "metadata": {},
   "outputs": [
    {
     "name": "stdout",
     "output_type": "stream",
     "text": [
      " ans  =\n",
      "  -11.496235\n",
      "  -3.1700789\n",
      "   4.0558354\n",
      "   8.5881460\n",
      "   13.022332"
     ]
    }
   ],
   "source": [
    "spec(A6)"
   ]
  },
  {
   "cell_type": "markdown",
   "metadata": {},
   "source": [
    "Agora, vamos tentar encontrar seus autovalores procurando nas proximidades dos centros dos discos de Gershgorin dessa matriz, que são justamente os valores de sua diagonal."
   ]
  },
  {
   "cell_type": "code",
   "execution_count": 145,
   "metadata": {},
   "outputs": [
    {
     "name": "stdout",
     "output_type": "stream",
     "text": [
      "  -3.1700789\n",
      "\n",
      "   8.5881460\n",
      "\n",
      "   4.0558354\n",
      "\n",
      "   8.5881460\n",
      "\n",
      "  -3.1700789"
     ]
    }
   ],
   "source": [
    "for i = 1:5\n",
    "    [lambda, x1, k, n_erro] = Potencia_deslocada_inversa(A6, [1; 2; 3; 4; 5], 10^(-5), A6(i,i), 20);\n",
    "    disp(lambda)\n",
    "end"
   ]
  },
  {
   "cell_type": "markdown",
   "metadata": {},
   "source": [
    "Podemos ver que alguns autovalores não foram localizados e outros vieram repetidos. Isso ocorreu porque os discos dessa matriz se sobrepõem, fazendo com que alguns autovalores estejam bem próximos de dois de seus centros. Com isso, esses são retornados mais de uma vez enquanto que outros que também estão dentro desses discos, mas não tão próximos dos centros, não são localizados pelo algoritmo.\n",
    "\n",
    "Dessa forma, para termos a garantia de encontrarmos todos os autovalores da matriz com esse método, precisamos que seus discos de Gershgorin sejam todos disjuntos. Assim, abaixo temos um exemplo de uma matriz que segue essa restrição."
   ]
  },
  {
   "cell_type": "code",
   "execution_count": 146,
   "metadata": {},
   "outputs": [
    {
     "name": "stdout",
     "output_type": "stream",
     "text": [
      " A7  = \n",
      "  -8.   0.   1.    0.   0.\n",
      "   0.   2.   0.   -1.   0.\n",
      "   1.   0.   12.   0.  -1.\n",
      "   0.  -1.   0.   -3.   2.\n",
      "   0.   0.  -1.    2.   7."
     ]
    }
   ],
   "source": [
    "A7 = [-8 0 1 0 0;\n",
    "      0 2 0 -1 0;\n",
    "      1 0 12 0 -1\n",
    "      0 -1 0 -3 2;\n",
    "      0 0 -1 2 7]"
   ]
  },
  {
   "cell_type": "markdown",
   "metadata": {},
   "source": [
    "Vejamos seus autovalores."
   ]
  },
  {
   "cell_type": "code",
   "execution_count": 147,
   "metadata": {},
   "outputs": [
    {
     "name": "stdout",
     "output_type": "stream",
     "text": [
      " ans  =\n",
      "  -8.0500505\n",
      "  -3.5608702\n",
      "   2.1663483\n",
      "   7.1946264\n",
      "   12.249946"
     ]
    }
   ],
   "source": [
    "spec(A7)"
   ]
  },
  {
   "cell_type": "markdown",
   "metadata": {},
   "source": [
    "Agora, vamos ver se a busca focando nos centros desses discos resultará em todos os 5 autovalores."
   ]
  },
  {
   "cell_type": "code",
   "execution_count": 148,
   "metadata": {},
   "outputs": [
    {
     "name": "stdout",
     "output_type": "stream",
     "text": [
      "  -8.0500505\n",
      "\n",
      "   2.1663483\n",
      "\n",
      "   12.249946\n",
      "\n",
      "  -3.5608702\n",
      "\n",
      "   7.1946264"
     ]
    }
   ],
   "source": [
    "for i = 1:5\n",
    "    [lambda, x1, k, n_erro] = Potencia_deslocada_inversa(A7, [1; 2; 3; 4; 5], 10^(-5), A7(i,i), 20);\n",
    "    disp(lambda)\n",
    "end"
   ]
  },
  {
   "cell_type": "markdown",
   "metadata": {},
   "source": [
    "Funcionou! Desse modo, concluímos que esse método é relativamente eficiente para o cálculo dos autovalores de uma matriz, mas que ele encontrará todos os autovalores sem nenhuma dúvida apenas quando todos os discos dessa matriz forem disjuntos."
   ]
  },
  {
   "cell_type": "markdown",
   "metadata": {},
   "source": [
    "# Exercício 5"
   ]
  },
  {
   "cell_type": "markdown",
   "metadata": {},
   "source": [
    "## Experimento 1: Dois autovalores dominantes com sinais opostos"
   ]
  },
  {
   "cell_type": "markdown",
   "metadata": {},
   "source": [
    "O que será que acontece com o método da potência se tivermos uma matriz com dois autovalores dominantes, mas com sinais opostos? Vamos experimentar.\n",
    "\n",
    "Consideremos a seguinte matriz, cujos autovalores são 1, -3 e 3:"
   ]
  },
  {
   "cell_type": "code",
   "execution_count": 149,
   "metadata": {},
   "outputs": [
    {
     "name": "stdout",
     "output_type": "stream",
     "text": [
      " A8  = \n",
      "   2.  -1.   0.\n",
      "  -1.   2.   0.\n",
      "   0.   0.  -3."
     ]
    }
   ],
   "source": [
    "A8 = [2 -1 0; -1 2 0; 0 0 -3]"
   ]
  },
  {
   "cell_type": "markdown",
   "metadata": {},
   "source": [
    "Vamos ver o que nossa função vai retornar como resposta para o maior autovalor em módulo dessa matriz."
   ]
  },
  {
   "cell_type": "code",
   "execution_count": 150,
   "metadata": {},
   "outputs": [
    {
     "name": "stdout",
     "output_type": "stream",
     "text": [
      " lambda  = \n",
      "  -3.\n",
      " x1  = \n",
      "   0.5\n",
      "  -0.5\n",
      "   1.\n",
      " k1  = \n",
      "   20.\n",
      " n_erro  = \n",
      "   1."
     ]
    }
   ],
   "source": [
    "[lambda, x1, k1, n_erro] = Metodo_potencia_v1(A8, [0.5; -0.5; 1], 10^(-5), 20)"
   ]
  },
  {
   "cell_type": "markdown",
   "metadata": {},
   "source": [
    "Interessante... O autovalor encontrado está, de certa forma, correto. No entanto, o vetor não consegue convergir.\n",
    "\n",
    "Vamos testar com um outro vetor inicial."
   ]
  },
  {
   "cell_type": "code",
   "execution_count": 151,
   "metadata": {},
   "outputs": [
    {
     "name": "stdout",
     "output_type": "stream",
     "text": [
      " lambda  = \n",
      "   3.0000000\n",
      " x1  = \n",
      "  -1.0000000\n",
      "   1.\n",
      "  -0.6666667\n",
      " k1  = \n",
      "   20.\n",
      " n_erro  = \n",
      "   1.3333333"
     ]
    }
   ],
   "source": [
    "[lambda, x1, k1, n_erro] = Metodo_potencia_v1(A8, [-0.5; 1; -0.5], 10^(-5), 20)"
   ]
  },
  {
   "cell_type": "markdown",
   "metadata": {},
   "source": [
    "Agora ele foi para o outro autovalor, mesmo com o vetor ainda não convergindo.\n",
    "\n",
    "Os autovalores encontrados nesses dois experimentos não foram aleatórios: o vetor inicial do primeiro está mais próximo do autovetor correspondente ao autovalor -3, que é $[0; 0; 1]$, enquanto que o vetor inicial do segundo está mais perto do autovetor correspondente ao autovalor 3, que é $[-1; 1; 0]$. Dessa forma, temos que, nesse caso, o algoritmo não consegue encontrar o autovetor dominante, mas ainda é capaz de descobrir um dos autovalores dominantes, e qual ele encontrará dependerá das distâncias do vetor inicial aos autovetores dominantes."
   ]
  },
  {
   "cell_type": "markdown",
   "metadata": {},
   "source": [
    "## Experimento 2: Dois autovalores dominantes iguais com autovetores diferentes"
   ]
  },
  {
   "cell_type": "markdown",
   "metadata": {},
   "source": [
    "E se tivermos novamente dois autovalores dominantes, mas dessa vez com mesmo sinal e com autovetores correspondentes distintos? Vamos experimentar.\n",
    "\n",
    "Considere a matriz abaixo."
   ]
  },
  {
   "cell_type": "code",
   "execution_count": 152,
   "metadata": {},
   "outputs": [
    {
     "name": "stdout",
     "output_type": "stream",
     "text": [
      " A9  = \n",
      "   3.   0.   0.\n",
      "   0.   1.   0.\n",
      "   0.   0.   3."
     ]
    }
   ],
   "source": [
    "A9 = [3 0 0; 0 1 0; 0 0 3]"
   ]
  },
  {
   "cell_type": "markdown",
   "metadata": {},
   "source": [
    "Seus autovalores são 1, 3 e 3, mas seus autovetores mais básicos são a base canônica, com os correspondentes aos autovalores 3 sendo $e_1$ e $e_3$.\n",
    "\n",
    "Vamos ver o que o método da potência retorna nesse caso. Façamos alguns experimentos com vetores iniciais diferentes:"
   ]
  },
  {
   "cell_type": "code",
   "execution_count": 153,
   "metadata": {},
   "outputs": [
    {
     "name": "stdout",
     "output_type": "stream",
     "text": [
      " lambda  = \n",
      "   3.\n",
      " x1  = \n",
      "   1.\n",
      "   0.0000028\n",
      "   0.\n",
      " k1  = \n",
      "   11.\n",
      " n_erro  = \n",
      "   0.0000056"
     ]
    }
   ],
   "source": [
    "[lambda, x1, k1, n_erro] = Metodo_potencia_v1(A9, [1; 0.5; 0], 10^(-5), 20)"
   ]
  },
  {
   "cell_type": "code",
   "execution_count": 154,
   "metadata": {},
   "outputs": [
    {
     "name": "stdout",
     "output_type": "stream",
     "text": [
      " lambda  = \n",
      "   3.\n",
      " x1  = \n",
      "   0.\n",
      "   0.0000028\n",
      "   1.\n",
      " k1  = \n",
      "   11.\n",
      " n_erro  = \n",
      "   0.0000056"
     ]
    }
   ],
   "source": [
    "[lambda, x1, k1, n_erro] = Metodo_potencia_v1(A9, [0; 0.5; 1], 10^(-5), 20)\n"
   ]
  },
  {
   "cell_type": "code",
   "execution_count": 155,
   "metadata": {},
   "outputs": [
    {
     "name": "stdout",
     "output_type": "stream",
     "text": [
      " lambda  = \n",
      "   3.\n",
      " x1  = \n",
      "   0.6054664\n",
      "   0.0000022\n",
      "   1.\n",
      " k1  = \n",
      "   12.\n",
      " n_erro  = \n",
      "   0.0000044"
     ]
    }
   ],
   "source": [
    "[lambda, x1, k1, n_erro] = Metodo_potencia_v1(A9, rand(3, 1), 10^(-5), 20)"
   ]
  },
  {
   "cell_type": "markdown",
   "metadata": {},
   "source": [
    "Todos os testes encontraram corretamente o autovalor, mas vamos analisar os resultados para os autovetores. No primeiro teste, ao iniciar o algoritmo com um vetor próximo de $e_1$, ele conseguiu convergir para o autovetor $e_1$. O mesmo aconteceu com o autovetor $e_3$ no segundo teste. No entanto, ao iniciar com um vetor aleatório, ele acaba convergindo para alguma combinação linear desses autovetores, que, pelos teoremas da Álgebra Linear, também é autovetor para esse mesmo autovalor. Desse modo, nessa situação, parece que esse algoritmo sempre consegue encontrar os autovalores e algum autovetor, apesar de esse autovetor encontrado ser um pouco incontrolável."
   ]
  },
  {
   "cell_type": "markdown",
   "metadata": {},
   "source": [
    "## Experimento 3: Autovalor próximo ao dominante"
   ]
  },
  {
   "cell_type": "markdown",
   "metadata": {},
   "source": [
    "Por último, o que ocorre se o segundo maior autovalor em módulo for muito próximo do autovalor dominante? Sua proximidade afetará o cálculo do autovetor dominante? Vamos descobrir.\n",
    "\n",
    "Considere a matriz abaixo, cujos autovalores são, 1, 2.99 e 3:"
   ]
  },
  {
   "cell_type": "code",
   "execution_count": 156,
   "metadata": {},
   "outputs": [
    {
     "name": "stdout",
     "output_type": "stream",
     "text": [
      " A10  = \n",
      "   2.   1.   0.  \n",
      "   1.   2.   0.  \n",
      "   0.   0.   2.99"
     ]
    }
   ],
   "source": [
    "A10 = [2 1 0; 1 2 0; 0 0 2.99]"
   ]
  },
  {
   "cell_type": "markdown",
   "metadata": {},
   "source": [
    "O autovetor correspondente ao autovalor 2.99 é $[0; 0; 1]$, e o correspondente ao 3 é $[1; 1; 0]$. Vamos ver o que ocorre com nossa função do método da potência:"
   ]
  },
  {
   "cell_type": "code",
   "execution_count": 157,
   "metadata": {},
   "outputs": [
    {
     "name": "stdout",
     "output_type": "stream",
     "text": [
      " lambda  = \n",
      "   2.9999936\n",
      " x1  = \n",
      "   0.9999979\n",
      "   1.\n",
      "   0.0004392\n",
      " k1  = \n",
      "   12.\n",
      " n_erro  = \n",
      "   0.0000042"
     ]
    }
   ],
   "source": [
    "rand(\"seed\", 0)\n",
    "[lambda, x1, k1, n_erro] = Metodo_potencia_v1(A10, rand(3, 1), 10^(-5), 20)"
   ]
  },
  {
   "cell_type": "code",
   "execution_count": 158,
   "metadata": {},
   "outputs": [
    {
     "name": "stdout",
     "output_type": "stream",
     "text": [
      " lambda  = \n",
      "   2.99\n",
      " x1  = \n",
      "   0.4923651\n",
      "   0.4923651\n",
      "   1.\n",
      " k1  = \n",
      "   20.\n",
      " n_erro  = \n",
      "   0.0016412"
     ]
    }
   ],
   "source": [
    "rand(\"seed\", 1)\n",
    "[lambda, x1, k1, n_erro] = Metodo_potencia_v1(A10, rand(3, 1), 10^(-5), 20)"
   ]
  },
  {
   "cell_type": "code",
   "execution_count": 159,
   "metadata": {},
   "outputs": [
    {
     "name": "stdout",
     "output_type": "stream",
     "text": [
      " lambda  = \n",
      "   3.0000000\n",
      " x1  = \n",
      "   1.\n",
      "   1.0000000\n",
      "   0.4891694\n",
      " k1  = \n",
      "   20.\n",
      " n_erro  = \n",
      "   0.0016360"
     ]
    }
   ],
   "source": [
    "rand(\"seed\", 2)\n",
    "[lambda, x1, k1, n_erro] = Metodo_potencia_v1(A10, rand(3, 1), 10^(-5), 20)"
   ]
  },
  {
   "cell_type": "markdown",
   "metadata": {},
   "source": [
    "Podemos ver pelos exemplos que, dependendo do vetor inicial, o algoritmo pode acertar o autovalor dominante, convergindo para 3, mas também pode acabar errando e chegando ao 2.99, o que não era desejável. Além disso, vemos que, nos dois últimos, os vetores encontrados não foram exatamente os autovetores dos autovalores encontrados, mas sim combinações lineares dos autovetores do 2.99 e do 3, o que, nesse caso, diferentemente do experimento anterior, não é correto, pois os autovalores são diferentes, apesar de serem próximos. Portanto, concluímos que esse método é sensível a autovalores numericamente próximos."
   ]
  }
 ],
 "metadata": {
  "kernelspec": {
   "display_name": "Scilab",
   "language": "scilab",
   "name": "scilab"
  },
  "language_info": {
   "file_extension": ".sci",
   "help_links": [
    {
     "text": "MetaKernel Magics",
     "url": "https://metakernel.readthedocs.io/en/latest/source/README.html"
    }
   ],
   "mimetype": "text/x-scilab",
   "name": "scilab",
   "version": "0.10.1"
  }
 },
 "nbformat": 4,
 "nbformat_minor": 2
}
